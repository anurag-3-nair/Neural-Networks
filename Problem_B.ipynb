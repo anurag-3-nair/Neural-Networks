{
  "cells": [
    {
      "cell_type": "markdown",
      "metadata": {
        "id": "view-in-github",
        "colab_type": "text"
      },
      "source": [
        "<a href=\"https://colab.research.google.com/github/anurag-3-nair/Neural-Networks/blob/main/Problem_B.ipynb\" target=\"_parent\"><img src=\"https://colab.research.google.com/assets/colab-badge.svg\" alt=\"Open In Colab\"/></a>"
      ]
    },
    {
      "cell_type": "markdown",
      "id": "6bcfae83-5d0e-44c6-96d9-4fd274c8ed82",
      "metadata": {
        "id": "6bcfae83-5d0e-44c6-96d9-4fd274c8ed82"
      },
      "source": [
        "# Problem B: Effective thermal conductivity of 2-phase materials\n",
        "Predicting the effective thermal conductivity $k_{\\text{eff}}$ of a two-phase composite material is a classical and practical problem in materials science. The goal is to estimate the bulk conductivity of a heterogeneous material made of two constituents with thermal conductivities $k_1$ and $k_2$. One efficient way to compute the effective thermal conductivity of given 2-phase materials is through numerical homogenization.\n",
        "\n",
        "In numerical homogenization, we need to solve the steady-state heat equation on a representative volume element (RVE):\n",
        "$$\n",
        "-\\nabla\\cdot(k(x,y)\\nabla T) = 0,\\quad (x,y)\\in\\Omega=[0,1]^2 \\tag{2}\n",
        "$$\n",
        "With the following boundary conditions:\n",
        "  - $T(x=0,y)=0,\\ T(x=1,y)=1 $\n",
        "  - $\\frac{\\partial T}{\\partial \\vec{n}}(x,y=0)=\\frac{\\partial T}{\\partial \\vec{n}}(x,y=1)=0$\n",
        "\n",
        "where $T(x,y)$ indicates the temperature  and $k(x,y)$ indicates thermal conductivity, which is defined piecewise:\n",
        "$$\n",
        "k(x,y)=\n",
        "\\begin{cases}\n",
        "k_1=2.,\\quad (x,y)\\in\\Omega_1\\\\\n",
        "k_2=10.,\\quad (x,y)\\in\\Omega_2\n",
        "\\end{cases}\n",
        "$$\n",
        "where $\\Omega_1$, $\\Omega_2$ denote the first phase region and the second phase region, respectively.\n",
        "\n",
        "<!-- To compute the effective thermal conductivity in the $x$-direction, one can follow the steps:\n",
        "- **Step 1:** Solve the following PDE:\n",
        "    $$\n",
        "    -\\nabla\\cdot(k(x,y)\\nabla T) = 0,\\quad (x,y)\\in\\Omega=[0,1]^2 \\tag{3}\n",
        "    $$\n",
        "  With boundary conditions:\n",
        "  - $T(x=0,y)=0,\\ T(x=1,y)=1 $\n",
        "  - $\\frac{\\partial T}{\\partial \\vec{n}}(x,y=0)=\\frac{\\partial T}{\\partial \\vec{n}}(x,y=1)=0$\n",
        "- **Step 2:** Compute the **average heat flux:**\n",
        "    $$\n",
        "    <q> = \\frac{1}{|\\Omega|}\\int_{\\Omega}q~d\\Omega\n",
        "    $$\n",
        "  where $q(x,y)=-k(x,y)\\partial_x T$, and the **average temperature gradient:**\n",
        "    $$\n",
        "    <\\partial_x T> =  \\frac{1}{|\\Omega|}\\int_{\\Omega}\\partial_x T~d\\Omega\n",
        "    $$\n",
        "- **Step 3:** Compute the **effective thermal conductivity (in $x$-direction):**\n",
        "    $$\n",
        "    k_{eff} = -\\frac{<q>}{<\\partial_x T>} = \\frac{<k(x,y)\\partial_x T>}{<\\partial_x T>}\n",
        "    $$ -->"
      ]
    },
    {
      "cell_type": "markdown",
      "id": "4a7097e3-65f9-4efb-8e43-efe75a0bbf35",
      "metadata": {
        "id": "4a7097e3-65f9-4efb-8e43-efe75a0bbf35"
      },
      "source": [
        "## Task: predicting the temperature field $T(x,y)$ given 2-phase material $k(x,y)$\n",
        "In this task, we have collected many materials $k(x,y)$ which are sampled from a distribution $\\mathcal{A}$. We have also computed the corresponding temperature field $T(x,y)$ through solving the PDE problem $(2)$ with high-precision FEM method. Now, we hope to make a fast prediction of the temperature field $T(x,y)$ (therefore, a fast prediction of the effective conductivity) of a group of materials that are sampled from the same distribution.\n",
        "\n",
        "### The goals\n",
        "- Please select a suitable deep learning method for solving this task, and explain the reason for using it\n",
        "- Report your setups for the implementation, such as network structure, activation function, optimizer (with learning rate), epoch (with batch size), loss weights, and other tricks that are used for improvement.\n",
        "- Compute the $L^2$ relative error (on testing dataset) at each training epoch and plot the ```Error vs. epcoh``` curve (and report the final error). The $L^2$ relative error between the prediction $\\{T^{(j)}_{pred}\\}^{N}_{j}$ and the truth $\\{T^{(j)}_{true}\\}^{N}_j$ is defined as follows:\n",
        "  $$error = \\frac{1}{N}\\sum_j\\sqrt{\\frac{\\sum_i|T^{(j)}_{pred}(x_i)-T^{(j)}_{true}(x_i)|^2}{\\sum_i|T^{(j)}_{true}(x_i)|^2}}$$\n",
        " where $j$ indicates the $j$-th instance.\n",
        "- Plot the material thermal conductivity, the corresponding predicted solution (and the ground truth reference), and the pointwise absolute error for the first instance in the testing Dataset using separate figures with ```matplotlib```.\n",
        "\n",
        "### Dataset\n",
        "The observation and the ground truth references are given in the dataset ```EffectiveConductivity.h5```:\n",
        "- ```k_train```: size(1000, 36, 36), the collected materials (a $36\\times 36$ matrix represents each material)\n",
        "- ```T_train```: size(1000, 36, 36), the collected temperature field (computed on a $36\\times 36$ regular mesh)\n",
        "- ```k_test```: the materials that we are going to predict their corresponding temperature field (Should not be used for training)\n",
        "- ```T_test```: the ground truth reference of the temperature field (Should not be used for training)\n",
        "- ```X```: size(36, 36), the $x$-coordiante of locations where the temperature field computed\n",
        "- ```Y```: size(36, 36), the $y$-coordiante of locations where the temperature field computed\n",
        "- Link to dataset: [https://www.kaggle.com/datasets/yhzang32/dno4pdes](https://www.kaggle.com/datasets/yhzang32/dno4pdes)"
      ]
    },
    {
      "cell_type": "code",
      "source": [
        "from google.colab import drive\n",
        "drive.mount('/content/drive')"
      ],
      "metadata": {
        "colab": {
          "base_uri": "https://localhost:8080/"
        },
        "id": "nH-HavddtBCe",
        "outputId": "8fb9648e-c1e4-43f8-b13d-228483d20e28"
      },
      "id": "nH-HavddtBCe",
      "execution_count": null,
      "outputs": [
        {
          "output_type": "stream",
          "name": "stdout",
          "text": [
            "Drive already mounted at /content/drive; to attempt to forcibly remount, call drive.mount(\"/content/drive\", force_remount=True).\n"
          ]
        }
      ]
    },
    {
      "cell_type": "code",
      "execution_count": null,
      "id": "826f8074-522f-4a23-b961-730a306e0c2b",
      "metadata": {
        "colab": {
          "base_uri": "https://localhost:8080/",
          "height": 549
        },
        "id": "826f8074-522f-4a23-b961-730a306e0c2b",
        "outputId": "155c03c9-ad1b-4ec9-9b8a-e4ead44daf88"
      },
      "outputs": [
        {
          "output_type": "stream",
          "name": "stdout",
          "text": [
            "<KeysViewHDF5 ['T_test', 'T_train', 'X', 'Y', 'dTx_test', 'dTx_train', 'k_test', 'k_train']>\n",
            "The shape of k_train_dev: torch.Size([1000, 36, 36, 1])\n",
            "The shape of T_train_dev: torch.Size([1000, 36, 36, 1])\n",
            "The shape of k_test_dev: torch.Size([200, 36, 36, 1])\n",
            "The shape of T_test_dev: torch.Size([200, 36, 36, 1])\n",
            "The shape of X_dev: torch.Size([1000, 36, 36, 1])\n",
            "The shape of Y_dev: torch.Size([1000, 36, 36, 1])\n",
            "Shape of Input_Tensor:  torch.Size([1000, 36, 36, 3])\n"
          ]
        },
        {
          "output_type": "display_data",
          "data": {
            "text/plain": [
              "<Figure size 1200x400 with 4 Axes>"
            ],
            "image/png": "[encoded data removed]"
          },
          "metadata": {}
        }
      ],
      "source": [
        "import numpy as np\n",
        "import h5py\n",
        "import torch\n",
        "import matplotlib.pyplot as plt\n",
        "import torch.nn as nn\n",
        "from scipy.interpolate import griddata\n",
        "device = torch.device(\"cuda\" if torch.cuda.is_available() else \"cpu\")\n",
        "dtype = torch.float32\n",
        "######################################\n",
        "# Load training data\n",
        "######################################\n",
        "with h5py.File('/content/drive/MyDrive/DPL4PDE_Project/EffectiveConductivity.h5', 'r') as data:\n",
        "    print(data.keys())\n",
        "    k_train = torch.tensor(np.array(data[\"k_train\"]), dtype=dtype); k_train[k_train==0]=2.; k_train[k_train==1]=10.\n",
        "    T_train = torch.tensor(np.array(data[\"T_train\"]), dtype=dtype)\n",
        "    k_test = torch.tensor(np.array(data[\"k_test\"]), dtype=dtype); k_test[k_test==0]=2.; k_test[k_test==1]=10.\n",
        "    T_test =torch.tensor( np.array(data[\"T_test\"]), dtype=dtype)\n",
        "\n",
        "    # The coordinates\n",
        "    X = torch.tensor(np.array(data['X']), dtype=dtype)\n",
        "    Y = torch.tensor(np.array(data['Y']), dtype=dtype)\n",
        "\n",
        "\n",
        "# print('The shape of X:', X.shape, 'The shape of Y:', Y.shape)\n",
        "# print('The shape of k_train:', k_train.shape)\n",
        "# print('The shape of T_train:', T_train.shape)\n",
        "# print('The shape of k_test:', k_test.shape)\n",
        "# print('The shape of T_test:', T_test.shape)\n",
        "\n",
        "k_train_dev = k_train.unsqueeze(-1).repeat(1, 1, 1, 1)\n",
        "print('The shape of k_train_dev:', k_train_dev.shape)\n",
        "\n",
        "T_train_dev = T_train.unsqueeze(-1).repeat(1, 1, 1, 1)\n",
        "print('The shape of T_train_dev:', T_train_dev.shape)\n",
        "\n",
        "k_test_dev = k_test.unsqueeze(-1).repeat(1, 1, 1, 1)\n",
        "print('The shape of k_test_dev:', k_test_dev.shape)\n",
        "\n",
        "T_test_dev = T_test.unsqueeze(-1).repeat(1, 1, 1, 1)\n",
        "print('The shape of T_test_dev:', T_test_dev.shape)\n",
        "\n",
        "X_dev = X.unsqueeze(0).repeat(k_train.shape[0], 1, 1)\n",
        "X_dev = X_dev.unsqueeze(-1)\n",
        "print('The shape of X_dev:', X_dev.shape)\n",
        "\n",
        "Y_dev = Y.unsqueeze(0).repeat(k_train.shape[0], 1, 1)\n",
        "Y_dev = Y_dev.unsqueeze(-1)\n",
        "print('The shape of Y_dev:', Y_dev.shape)\n",
        "\n",
        "Input_tensor = torch.cat([k_train_dev, X_dev, Y_dev], dim = -1)\n",
        "print('Shape of Input_Tensor: ', Input_tensor.shape)\n",
        "\n",
        "####### Visualize the training data\n",
        "k_show, T_show = k_train[0], T_train[0]\n",
        "#\n",
        "fig, axs = plt.subplots(nrows=1, ncols=2, figsize=(12, 4))\n",
        "#\n",
        "cntr0 = axs.flat[:][0].imshow(k_show, origin='lower')\n",
        "fig.colorbar(cntr0, ax=axs.flat[:][0])\n",
        "axs.flat[:][0].set_title('True k')\n",
        "axs.flat[:][0].set_xlabel('x')\n",
        "axs.flat[:][0].set_ylabel('y')\n",
        "#\n",
        "cntr1 = axs.flat[:][1].contourf(X, Y, T_show, levels=40, cmap='jet')\n",
        "fig.colorbar(cntr1, ax=axs.flat[:][1])\n",
        "axs.flat[:][1].set_title('True T')\n",
        "axs.flat[:][1].set_xlabel('x')\n",
        "axs.flat[:][1].set_ylabel('y')\n",
        "#\n",
        "plt.show()"
      ]
    },
    {
      "cell_type": "markdown",
      "source": [
        "# Fourier Network Operators (FNOs)\n",
        "\n",
        "The FNO architecture is shown below. Applying ReLU activation."
      ],
      "metadata": {
        "id": "gGx3JbB9_Muq"
      },
      "id": "gGx3JbB9_Muq"
    },
    {
      "cell_type": "code",
      "source": [
        "## Predicting temperature field given a 2-phase material k(x,y) with a 2D FNO\n",
        "\n",
        "# Convolution in frequency domain\n",
        "class SpectralConv2D(nn.Module):\n",
        "\n",
        "    # Fourier layer transformation\n",
        "    def __init__(self, in_size, out_size, modes1, modes2, dtype):\n",
        "        super(SpectralConv2D, self).__init__()\n",
        "\n",
        "        '''2D Fourier layer: FFT -> linear transform -> Inverse FFT\n",
        "        '''\n",
        "        self.in_size = in_size\n",
        "        self.out_size = out_size\n",
        "\n",
        "        # Fourier modes\n",
        "        self.modes1 = modes1\n",
        "        self.modes2 = modes2\n",
        "\n",
        "        #\n",
        "        self.scale = 1./(in_size * out_size)\n",
        "        #\n",
        "\n",
        "        if (dtype is None) or (dtype==torch.float32):\n",
        "            ctype = torch.complex64\n",
        "        elif (dtype==torch.float64):\n",
        "            ctype = torch.complex128\n",
        "        else:\n",
        "            raise TypeError(f'No such data type.')\n",
        "\n",
        "        # Weights below\n",
        "        self.weight1 = nn.Parameter(self.scale * torch.rand(in_size, out_size,\n",
        "                                                            modes1, modes2,\n",
        "                                                            dtype=ctype))\n",
        "        self.weight2 = nn.Parameter(self.scale * torch.rand(in_size, out_size,\n",
        "                                                            modes1, modes2,\n",
        "                                                            dtype=ctype))\n",
        "    # Complex multiplication with Einstein summation notation\n",
        "    def compl_mul_2d(self, input, weights):\n",
        "        return torch.einsum('bixy,ioxy->boxy', input, weights)\n",
        "\n",
        "    # Forward pass\n",
        "    def forward(self, x):\n",
        "        '''\n",
        "        Input:\n",
        "            x: size(batch_size, in_size, my_size, mx_size)\n",
        "        Return:\n",
        "            x: size(batch_size, out_size, my_size, mx_size)\n",
        "        '''\n",
        "        batch_size = x.shape[0]\n",
        "        ####################### Compute Fourier coefficients up to factor of e^{-c}\n",
        "        # size(batch_size, in_size, mx_size, my_size//2+1)\n",
        "        x_ft = torch.fft.rfft2(x)\n",
        "\n",
        "        ######################## Multiply relevant Fourier modes\n",
        "        out_ft = torch.zeros(batch_size, self.out_size, x.size(-2), x.size(-1)//2+1,\n",
        "                             device=x.device, dtype=torch.cfloat)\n",
        "        out_ft[:, :, :self.modes1, :self.modes2] \\\n",
        "            = self.compl_mul_2d(x_ft[:, :, :self.modes1, :self.modes2], self.weight1)\n",
        "        out_ft[:, :, -self.modes1:, :self.modes2] \\\n",
        "            = self.compl_mul_2d(x_ft[:, :, -self.modes1:, :self.modes2], self.weight2)\n",
        "\n",
        "        ######################### Return to physical space\n",
        "        # size(batch_size, out_size, mx_size, my_size)\n",
        "        x = torch.fft.irfft2(out_ft, s=(x.size(-2), x.size(-1)))\n",
        "\n",
        "        return x\n",
        "\n",
        "class TempFNO2D(nn.Module):\n",
        "\n",
        "    def __init__(self, in_size:int, out_size:int, modes1:int, modes2:int,\n",
        "                 hidden_list:list[int], dtype=None):\n",
        "\n",
        "        super(TempFNO2D, self).__init__()\n",
        "        self.hidden_list = hidden_list\n",
        "\n",
        "        # Activation\n",
        "        self.activation = nn.ReLU()\n",
        "        # Input layer\n",
        "        self.fc_in = nn.Linear(in_size, hidden_list[0], dtype=dtype)\n",
        "        # The hidden layer\n",
        "        conv_net, w_net = [], []\n",
        "        self.hidden_in = hidden_list[0]\n",
        "\n",
        "        for hidden in hidden_list:\n",
        "          conv_net.append(SpectralConv2D(self.hidden_in, hidden, modes1, modes2, dtype))\n",
        "          w_net.append(nn.Conv1d(self.hidden_in, hidden, 1, dtype=dtype))\n",
        "          self.hidden_in = hidden\n",
        "        self.spectral_conv = nn.Sequential(*conv_net)\n",
        "        self.weight_conv = nn.Sequential(*w_net)\n",
        "\n",
        "        # Output layer\n",
        "        self.fc_out0 = nn.Linear(self.hidden_in, 128, dtype=dtype)\n",
        "        self.fc_out1 = nn.Linear(128, out_size, dtype=dtype)\n",
        "\n",
        "    def forward(self, kx):\n",
        "        '''\n",
        "        Input:\n",
        "            Input_tensor: size(batch_size, my_size, mx_size, a_size+x_size)\n",
        "        Output:\n",
        "            T_: size(batch_size, my_size, mx_size, out_size)\n",
        "        '''\n",
        "        batch_size = kx.shape[0]\n",
        "        spatial_size, temporal_size = kx.shape[1], kx.shape[2]\n",
        "\n",
        "        # The input layer:\n",
        "        kx = self.fc_in(kx)\n",
        "        kx = kx.permute(0, 3, 1, 2)\n",
        "\n",
        "        # The spectral conv layers\n",
        "        for conv, weight, hidden_size in zip(self.spectral_conv, self.weight_conv, self.hidden_list):\n",
        "            kx1 = conv(kx)\n",
        "            kx2 = weight(kx.view(batch_size, kx.shape[1], -1)).view(batch_size, -1, spatial_size, temporal_size)\n",
        "            kx = self.activation(kx1 + kx2)\n",
        "\n",
        "        # The output layer:\n",
        "        kx = kx.permute(0, 2, 3, 1)\n",
        "        kx = self.fc_out0(kx)\n",
        "        kx = self.activation(kx)\n",
        "\n",
        "        return self.fc_out1(kx)\n",
        "\n",
        "mode1, mode2 = 8, 8\n",
        "hidden_list = [48, 48, 48]\n",
        "model_u = TempFNO2D(in_size=Input_tensor.shape[-1], out_size=1, modes1=mode1, modes2=mode2, hidden_list=hidden_list).to(device)\n",
        "################## Find total trainable parameters\n",
        "total_trainable_params = sum(p.numel() for p in model_u.parameters() if p.requires_grad)\n",
        "print(f'{total_trainable_params:,} training parameters.')"
      ],
      "metadata": {
        "colab": {
          "base_uri": "https://localhost:8080/"
        },
        "id": "gHaigXu0_NzS",
        "outputId": "5cc255a7-270b-42a6-dfa4-05d490edbe01"
      },
      "id": "gHaigXu0_NzS",
      "execution_count": null,
      "outputs": [
        {
          "output_type": "stream",
          "name": "stdout",
          "text": [
            "898,385 training parameters.\n"
          ]
        }
      ]
    },
    {
      "cell_type": "markdown",
      "source": [
        "# Loss function\n",
        "$$\n",
        "\\theta^* = \\arg\\min_{\\theta} \\, L(\\theta) = \\frac{1}{N_{\\text{data}}} \\sum_{i=1}^{N_{\\text{data}}} \\left\\| \\mathcal{G}_\\theta(a^{(i)}(\\Xi)) - u^{(i)}(\\Xi) \\right\\|^2\n",
        "$$"
      ],
      "metadata": {
        "id": "f4ZD2sRnBcLp"
      },
      "id": "f4ZD2sRnBcLp"
    },
    {
      "cell_type": "code",
      "source": [
        "class TempFNOLoss(object):\n",
        "\n",
        "    def __init__(self, T_model):\n",
        "        self.device = device\n",
        "        self.T_model = T_model\n",
        "\n",
        "    def loss_data(self, kx_batch, T_batch):\n",
        "        '''loss term'''\n",
        "        batch_size = T_batch.shape[0]\n",
        "        kx, T = kx_batch.to(self.device), T_batch.to(self.device)\n",
        "\n",
        "        #\n",
        "        T_pred = self.T_model(kx)\n",
        "        loss = torch.norm(T.reshape(batch_size, -1)-T_pred.reshape(batch_size, -1), 2, 1)\n",
        "        loss = torch.mean(loss)\n",
        "\n",
        "        return loss"
      ],
      "metadata": {
        "id": "otcpD2ayBmwZ"
      },
      "id": "otcpD2ayBmwZ",
      "execution_count": null,
      "outputs": []
    },
    {
      "cell_type": "markdown",
      "source": [
        "# Training the model\n",
        "## Defining the dataloader function\n",
        "Below is the code that will load the data and section it into a custom dataset."
      ],
      "metadata": {
        "id": "CzwTKpWCCnG0"
      },
      "id": "CzwTKpWCCnG0"
    },
    {
      "cell_type": "code",
      "source": [
        "from torch.utils.data import Dataset, DataLoader\n",
        "############# Define your own dataset\n",
        "class MyDataset(Dataset):\n",
        "\n",
        "    def __init__(self, kx:torch.tensor, T:torch.tensor):\n",
        "        '''\n",
        "        Input:\n",
        "            kx: size(batch_size, a_size+x_size)\n",
        "            T: size(batch_size, u_size)\n",
        "        '''\n",
        "        self.kx = kx\n",
        "        self.T = T\n",
        "\n",
        "    def __getitem__(self, index):\n",
        "        return self.kx[index], self.T[index]\n",
        "\n",
        "    def __len__(self):\n",
        "        return self.kx.shape[0]\n",
        "\n",
        "##############\n",
        "train_loader = DataLoader(MyDataset(Input_tensor, T_train_dev), batch_size=50, shuffle=True)\n",
        "for k_batch, T_batch in train_loader:\n",
        "    print('kx_batch shape:', k_batch.shape, 'T_batch shape:', T_batch.shape)"
      ],
      "metadata": {
        "colab": {
          "base_uri": "https://localhost:8080/"
        },
        "id": "O66-duo8C6Ow",
        "outputId": "240472b7-3834-4c61-d8ac-565a0835205e"
      },
      "id": "O66-duo8C6Ow",
      "execution_count": null,
      "outputs": [
        {
          "output_type": "stream",
          "name": "stdout",
          "text": [
            "kx_batch shape: torch.Size([50, 36, 36, 3]) T_batch shape: torch.Size([50, 36, 36, 1])\n",
            "kx_batch shape: torch.Size([50, 36, 36, 3]) T_batch shape: torch.Size([50, 36, 36, 1])\n",
            "kx_batch shape: torch.Size([50, 36, 36, 3]) T_batch shape: torch.Size([50, 36, 36, 1])\n",
            "kx_batch shape: torch.Size([50, 36, 36, 3]) T_batch shape: torch.Size([50, 36, 36, 1])\n",
            "kx_batch shape: torch.Size([50, 36, 36, 3]) T_batch shape: torch.Size([50, 36, 36, 1])\n",
            "kx_batch shape: torch.Size([50, 36, 36, 3]) T_batch shape: torch.Size([50, 36, 36, 1])\n",
            "kx_batch shape: torch.Size([50, 36, 36, 3]) T_batch shape: torch.Size([50, 36, 36, 1])\n",
            "kx_batch shape: torch.Size([50, 36, 36, 3]) T_batch shape: torch.Size([50, 36, 36, 1])\n",
            "kx_batch shape: torch.Size([50, 36, 36, 3]) T_batch shape: torch.Size([50, 36, 36, 1])\n",
            "kx_batch shape: torch.Size([50, 36, 36, 3]) T_batch shape: torch.Size([50, 36, 36, 1])\n",
            "kx_batch shape: torch.Size([50, 36, 36, 3]) T_batch shape: torch.Size([50, 36, 36, 1])\n",
            "kx_batch shape: torch.Size([50, 36, 36, 3]) T_batch shape: torch.Size([50, 36, 36, 1])\n",
            "kx_batch shape: torch.Size([50, 36, 36, 3]) T_batch shape: torch.Size([50, 36, 36, 1])\n",
            "kx_batch shape: torch.Size([50, 36, 36, 3]) T_batch shape: torch.Size([50, 36, 36, 1])\n",
            "kx_batch shape: torch.Size([50, 36, 36, 3]) T_batch shape: torch.Size([50, 36, 36, 1])\n",
            "kx_batch shape: torch.Size([50, 36, 36, 3]) T_batch shape: torch.Size([50, 36, 36, 1])\n",
            "kx_batch shape: torch.Size([50, 36, 36, 3]) T_batch shape: torch.Size([50, 36, 36, 1])\n",
            "kx_batch shape: torch.Size([50, 36, 36, 3]) T_batch shape: torch.Size([50, 36, 36, 1])\n",
            "kx_batch shape: torch.Size([50, 36, 36, 3]) T_batch shape: torch.Size([50, 36, 36, 1])\n",
            "kx_batch shape: torch.Size([50, 36, 36, 3]) T_batch shape: torch.Size([50, 36, 36, 1])\n"
          ]
        }
      ]
    },
    {
      "cell_type": "markdown",
      "source": [
        "# Training the model"
      ],
      "metadata": {
        "id": "ZIXoMWaiEt0v"
      },
      "id": "ZIXoMWaiEt0v"
    },
    {
      "cell_type": "code",
      "source": [
        "from torch.cuda.amp import autocast, GradScaler\n",
        "from tqdm import trange\n",
        "import time\n",
        "\n",
        "# Training setup\n",
        "epochs = 2000\n",
        "lr = 1e-3\n",
        "\n",
        "# Device setup\n",
        "device = torch.device('cuda' if torch.cuda.is_available() else 'cpu')\n",
        "model_u.to(device)\n",
        "\n",
        "# Optimiser and scheduler\n",
        "optimiser = torch.optim.Adam(params=model_u.parameters(), lr=lr, weight_decay=1e-4)\n",
        "scheduler = torch.optim.lr_scheduler.StepLR(optimiser, step_size=np.int32(epochs/4), gamma=0.5)\n",
        "\n",
        "# Error tracking (list)\n",
        "train_losses = []\n",
        "\n",
        "loss_model = TempFNOLoss(model_u)\n",
        "\n",
        "#### Training loop\n",
        "### Training procedure\n",
        "t0 = time.time()\n",
        "for epoch in trange(epochs):\n",
        "    model_u.train()\n",
        "    loss = 0.\n",
        "    for k_batch, T_batch in train_loader:\n",
        "        k_batch = k_batch.to(device)\n",
        "        T_batch = T_batch.to(device)\n",
        "\n",
        "        # Calculate losses\n",
        "        loss_train = loss_model.loss_data(k_batch, T_batch)\n",
        "\n",
        "        # Backpropagation\n",
        "        optimiser.zero_grad()\n",
        "        output = model_u(k_batch)\n",
        "        loss_train.backward()\n",
        "        optimiser.step()\n",
        "        loss += loss_train.item()\n",
        "\n",
        "    scheduler.step()  # Adjust learning rate\n",
        "    train_losses.append(loss / len(train_loader))\n",
        "\n",
        "    if (epoch + 1) % 100 == 0:\n",
        "        print(f'Epoch:{epoch}, The loss is:{loss}')\n",
        "print('The consuming time is:', time.time() - t0)"
      ],
      "metadata": {
        "colab": {
          "base_uri": "https://localhost:8080/",
          "height": 408
        },
        "id": "wBKkJKA7Ewvs",
        "outputId": "0c02c53d-a70e-45bf-cff5-572a05856218"
      },
      "id": "wBKkJKA7Ewvs",
      "execution_count": null,
      "outputs": [
        {
          "output_type": "stream",
          "name": "stderr",
          "text": [
            "  5%|▍         | 96/2000 [38:26<12:42:29, 24.03s/it]\n"
          ]
        },
        {
          "output_type": "error",
          "ename": "KeyboardInterrupt",
          "evalue": "",
          "traceback": [
            "\u001b[0;31m---------------------------------------------------------------------------\u001b[0m",
            "\u001b[0;31mKeyboardInterrupt\u001b[0m                         Traceback (most recent call last)",
            "\u001b[0;32m/tmp/ipython-input-8-4179342330.py\u001b[0m in \u001b[0;36m<cell line: 0>\u001b[0;34m()\u001b[0m\n\u001b[1;32m     36\u001b[0m         \u001b[0moptimiser\u001b[0m\u001b[0;34m.\u001b[0m\u001b[0mzero_grad\u001b[0m\u001b[0;34m(\u001b[0m\u001b[0;34m)\u001b[0m\u001b[0;34m\u001b[0m\u001b[0;34m\u001b[0m\u001b[0m\n\u001b[1;32m     37\u001b[0m         \u001b[0moutput\u001b[0m \u001b[0;34m=\u001b[0m \u001b[0mmodel_u\u001b[0m\u001b[0;34m(\u001b[0m\u001b[0mk_batch\u001b[0m\u001b[0;34m)\u001b[0m\u001b[0;34m\u001b[0m\u001b[0;34m\u001b[0m\u001b[0m\n\u001b[0;32m---> 38\u001b[0;31m         \u001b[0mloss_train\u001b[0m\u001b[0;34m.\u001b[0m\u001b[0mbackward\u001b[0m\u001b[0;34m(\u001b[0m\u001b[0;34m)\u001b[0m\u001b[0;34m\u001b[0m\u001b[0;34m\u001b[0m\u001b[0m\n\u001b[0m\u001b[1;32m     39\u001b[0m         \u001b[0moptimiser\u001b[0m\u001b[0;34m.\u001b[0m\u001b[0mstep\u001b[0m\u001b[0;34m(\u001b[0m\u001b[0;34m)\u001b[0m\u001b[0;34m\u001b[0m\u001b[0;34m\u001b[0m\u001b[0m\n\u001b[1;32m     40\u001b[0m         \u001b[0mloss\u001b[0m \u001b[0;34m+=\u001b[0m \u001b[0mloss_train\u001b[0m\u001b[0;34m.\u001b[0m\u001b[0mitem\u001b[0m\u001b[0;34m(\u001b[0m\u001b[0;34m)\u001b[0m\u001b[0;34m\u001b[0m\u001b[0;34m\u001b[0m\u001b[0m\n",
            "\u001b[0;32m/usr/local/lib/python3.11/dist-packages/torch/_tensor.py\u001b[0m in \u001b[0;36mbackward\u001b[0;34m(self, gradient, retain_graph, create_graph, inputs)\u001b[0m\n\u001b[1;32m    624\u001b[0m                 \u001b[0minputs\u001b[0m\u001b[0;34m=\u001b[0m\u001b[0minputs\u001b[0m\u001b[0;34m,\u001b[0m\u001b[0;34m\u001b[0m\u001b[0;34m\u001b[0m\u001b[0m\n\u001b[1;32m    625\u001b[0m             )\n\u001b[0;32m--> 626\u001b[0;31m         torch.autograd.backward(\n\u001b[0m\u001b[1;32m    627\u001b[0m             \u001b[0mself\u001b[0m\u001b[0;34m,\u001b[0m \u001b[0mgradient\u001b[0m\u001b[0;34m,\u001b[0m \u001b[0mretain_graph\u001b[0m\u001b[0;34m,\u001b[0m \u001b[0mcreate_graph\u001b[0m\u001b[0;34m,\u001b[0m \u001b[0minputs\u001b[0m\u001b[0;34m=\u001b[0m\u001b[0minputs\u001b[0m\u001b[0;34m\u001b[0m\u001b[0;34m\u001b[0m\u001b[0m\n\u001b[1;32m    628\u001b[0m         )\n",
            "\u001b[0;32m/usr/local/lib/python3.11/dist-packages/torch/autograd/__init__.py\u001b[0m in \u001b[0;36mbackward\u001b[0;34m(tensors, grad_tensors, retain_graph, create_graph, grad_variables, inputs)\u001b[0m\n\u001b[1;32m    345\u001b[0m     \u001b[0;31m# some Python versions print out the first line of a multi-line function\u001b[0m\u001b[0;34m\u001b[0m\u001b[0;34m\u001b[0m\u001b[0m\n\u001b[1;32m    346\u001b[0m     \u001b[0;31m# calls in the traceback and some print out the last line\u001b[0m\u001b[0;34m\u001b[0m\u001b[0;34m\u001b[0m\u001b[0m\n\u001b[0;32m--> 347\u001b[0;31m     _engine_run_backward(\n\u001b[0m\u001b[1;32m    348\u001b[0m         \u001b[0mtensors\u001b[0m\u001b[0;34m,\u001b[0m\u001b[0;34m\u001b[0m\u001b[0;34m\u001b[0m\u001b[0m\n\u001b[1;32m    349\u001b[0m         \u001b[0mgrad_tensors_\u001b[0m\u001b[0;34m,\u001b[0m\u001b[0;34m\u001b[0m\u001b[0;34m\u001b[0m\u001b[0m\n",
            "\u001b[0;32m/usr/local/lib/python3.11/dist-packages/torch/autograd/graph.py\u001b[0m in \u001b[0;36m_engine_run_backward\u001b[0;34m(t_outputs, *args, **kwargs)\u001b[0m\n\u001b[1;32m    821\u001b[0m         \u001b[0munregister_hooks\u001b[0m \u001b[0;34m=\u001b[0m \u001b[0m_register_logging_hooks_on_whole_graph\u001b[0m\u001b[0;34m(\u001b[0m\u001b[0mt_outputs\u001b[0m\u001b[0;34m)\u001b[0m\u001b[0;34m\u001b[0m\u001b[0;34m\u001b[0m\u001b[0m\n\u001b[1;32m    822\u001b[0m     \u001b[0;32mtry\u001b[0m\u001b[0;34m:\u001b[0m\u001b[0;34m\u001b[0m\u001b[0;34m\u001b[0m\u001b[0m\n\u001b[0;32m--> 823\u001b[0;31m         return Variable._execution_engine.run_backward(  # Calls into the C++ engine to run the backward pass\n\u001b[0m\u001b[1;32m    824\u001b[0m             \u001b[0mt_outputs\u001b[0m\u001b[0;34m,\u001b[0m \u001b[0;34m*\u001b[0m\u001b[0margs\u001b[0m\u001b[0;34m,\u001b[0m \u001b[0;34m**\u001b[0m\u001b[0mkwargs\u001b[0m\u001b[0;34m\u001b[0m\u001b[0;34m\u001b[0m\u001b[0m\n\u001b[1;32m    825\u001b[0m         )  # Calls into the C++ engine to run the backward pass\n",
            "\u001b[0;31mKeyboardInterrupt\u001b[0m: "
          ]
        }
      ]
    },
    {
      "cell_type": "code",
      "source": [
        "######################################\n",
        "# Load testing data\n",
        "######################################\n",
        "\n",
        "with h5py.File('/content/drive/MyDrive/DPL4PDE_Project/EffectiveConductivity.h5', 'r') as data:\n",
        "    print(data.keys())\n",
        "    k_train = torch.tensor(np.array(data[\"k_train\"]), dtype=dtype); k_train[k_train==0]=2.; k_train[k_train==1]=10.\n",
        "    T_train = torch.tensor(np.array(data[\"T_train\"]), dtype=dtype)\n",
        "    k_test = torch.tensor(np.array(data[\"k_test\"]), dtype=dtype); k_test[k_test==0]=2.; k_test[k_test==1]=10.\n",
        "    T_test =torch.tensor( np.array(data[\"T_test\"]), dtype=dtype)\n",
        "\n",
        "    # The coordinates\n",
        "    X = torch.tensor(np.array(data['X']), dtype=dtype)\n",
        "    Y = torch.tensor(np.array(data['Y']), dtype=dtype)\n",
        "\n",
        "k_test_dev = k_test.unsqueeze(-1).repeat(1, 1, 1, 1)\n",
        "print('The shape of k_test_dev:', k_test_dev.shape)\n",
        "\n",
        "T_test_dev = T_test.unsqueeze(-1).repeat(1, 1, 1, 1)\n",
        "print('The shape of T_test_dev:', T_test_dev.shape)\n",
        "\n",
        "X_dev = X.unsqueeze(0).repeat(k_test.shape[0], 1, 1)\n",
        "X_dev = X_dev.unsqueeze(-1)\n",
        "print('The shape of X_dev:', X_dev.shape)\n",
        "\n",
        "Y_dev = Y.unsqueeze(0).repeat(k_test.shape[0], 1, 1)\n",
        "Y_dev = Y_dev.unsqueeze(-1)\n",
        "print('The shape of Y_dev:', Y_dev.shape)\n",
        "\n",
        "test_input = torch.cat([k_test_dev, X_dev, Y_dev], dim = -1)\n",
        "print('Shape of test_input: ', test_input.shape)\n",
        "\n",
        "# Model prediction\n",
        "model_u.eval()\n",
        "with torch.no_grad():\n",
        "    T_test_pred = model_u(test_input).cpu()\n",
        "\n",
        "#######################################\n",
        "# The L2 relative error\n",
        "#######################################\n",
        "def L2_error(T, T_pred, ndata=200):\n",
        "    ''' '''\n",
        "    l2 = torch.norm(T.reshape(ndata,-1)-T_pred.reshape(ndata,-1), 2, 1) / torch.norm(T.reshape(ndata, -1), 2, 1)\n",
        "    return l2\n",
        "\n",
        "#######################################\n",
        "# Predicting T and computing L2 error\n",
        "#######################################\n",
        "T_test_pred = model_u(T_test.to(device)).detach().cpu()\n",
        "print('The shape of T_pred:', T_test_pred.shape)\n",
        "\n",
        "l2_err = L2_error(T_test, T_test_pred)\n",
        "print('The l2 error:', l2_err)\n",
        "print('The average l2 error:', torch.mean(l2_err))\n",
        "\n",
        "plt.figure(figsize=(8, 4))\n",
        "plt.plot(l2_err.numpy(), marker='o')\n",
        "plt.xlabel(\"Test sample index\")\n",
        "plt.ylabel(\"L2 relative error\")\n",
        "plt.title(\"L2 Relative Error on Testing Dataset\")\n",
        "plt.grid(True)\n",
        "plt.tight_layout()\n",
        "plt.show()\n",
        "\n",
        "#######################################\n",
        "# Visualize the prediction and truth u\n",
        "#######################################\n",
        "T_true, T_pred = T_test[0], T_test_pred[0]\n",
        "\n",
        "#\n",
        "mesh = np.meshgrid(np.linspace(0, 1, X), np.linspace(0, 1, Y))\n",
        "x_plot, y_plot = mesh[0], mesh[1]\n",
        "points = np.stack((x_plot.ravel(), y_plot.ravel()), axis=-1)\n",
        "fig, axs = plt.subplots(nrows=1, ncols=3, figsize=(15, 4))\n",
        "\n",
        "# True plots\n",
        "z_plot = griddata(points, np.ravel(T_true), (x_plot, y_plot), method='cubic')\n",
        "cntr0 = axs.flat[:][0].contourf(x_plot, y_plot, z_plot, levels=40, cmap='jet')\n",
        "fig.colorbar(cntr0, ax=axs.flat[:][0])\n",
        "axs.flat[:][0].set_title('True Temperature Field')\n",
        "axs.flat[:][0].set_xlabel('x')\n",
        "axs.flat[:][0].set_ylabel('y')\n",
        "#\n",
        "z_plot = griddata(points, np.ravel(T_pred), (x_plot, y_plot), method='cubic')\n",
        "cntr1 = axs.flat[:][1].contourf(x_plot, y_plot, z_plot, levels=40, cmap='jet')\n",
        "fig.colorbar(cntr1, ax=axs.flat[:][1])\n",
        "axs.flat[:][1].set_title('Predicted Temperature Field')\n",
        "axs.flat[:][1].set_xlabel('x')\n",
        "axs.flat[:][1].set_ylabel('y')\n",
        "#\n",
        "z_plot = griddata(points, np.ravel(np.abs(T_true-T_pred)), (x_plot, y_plot), method='cubic')\n",
        "cntr2 = axs.flat[:][2].contourf(x_plot, y_plot, z_plot, levels=40, cmap='jet')\n",
        "fig.colorbar(cntr2, ax=axs.flat[:][2])\n",
        "axs.flat[:][2].set_title('Point-wise absoluter error')\n",
        "axs.flat[:][2].set_xlabel('x')\n",
        "axs.flat[:][2].set_ylabel('y')\n",
        "#\n",
        "plt.show()"
      ],
      "metadata": {
        "id": "E4EzAAHIRNBc"
      },
      "id": "E4EzAAHIRNBc",
      "execution_count": null,
      "outputs": []
    }
  ],
  "metadata": {
    "kernelspec": {
      "display_name": "Python 3",
      "name": "python3"
    },
    "language_info": {
      "codemirror_mode": {
        "name": "ipython",
        "version": 3
      },
      "file_extension": ".py",
      "mimetype": "text/x-python",
      "name": "python",
      "nbconvert_exporter": "python",
      "pygments_lexer": "ipython3",
      "version": "3.10.13"
    },
    "colab": {
      "provenance": [],
      "gpuType": "T4",
      "include_colab_link": true
    },
    "accelerator": "GPU"
  },
  "nbformat": 4,
  "nbformat_minor": 5
}